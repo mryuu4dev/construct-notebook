{
 "cells": [
  {
   "cell_type": "markdown",
   "metadata": {},
   "source": [
    "# Chapter 6\n",
    "## turtlesim\n",
    "---\n",
    "```shell\n",
    "## turtlesimを起動\n",
    "roscore # Masterを起動\n",
    "rosrun turtlesim turtlesim_node # 「turtlesim」パッケージの「turtlesim」ノードを実行\n",
    "rosrun turtlesim turtle_teleop_key # 「turtlesim」パッケージの「teleop_turtle」ノードを実行\n",
    "rqt_graph # turtlesim、teleop_turtleノードがturtle1/cmd_velトピックで結ばれている\n",
    "```\n",
    "---\n",
    "## rostopic\n",
    "---\n",
    "```shell\n",
    "## TopicへPublishされたMessageを確認\n",
    "rostopic echo /turtle1/cmd_vel # 亀を動かすと「/turtle1/cmd_vel」へPublishされたMessageが表示\n",
    "rqt_graph # rostopicも一つのノードであることがわかる\n",
    "\n",
    "## Topicへ値を直接書き込む\n",
    "rostopic type /turtle1/cmd_vel # geometry_msgs/Twist\n",
    "rosmsg show geometry_msgs/Twist # geometry_msgs/Vector3型のlinear、angularを持つ\n",
    "rostopic pub /turtle1/cmd_vel geometry_msgs/Twist -- '[2.0, 0.0, 0.0]' '[0.0, 0.0, 1.8]' # 前進: 2.0 m/s、回転: 1.8 rad/s\n",
    "rostopic pub -r 1 /turtle1/cmd_vel geometry_msgs/Twist -- '[2.0, 0.0, 0.0]' '[0.0, 0.0, -1.8]' # 1秒間に1回繰り返しデータを送信\n",
    "\n",
    "## 現在登録されているTopicを確認\n",
    "rostopic list\n",
    "```\n",
    "---\n",
    "## rosservice\n",
    "serviceは実行結果を返してもらえる、返ってくるまで待つ\n",
    "\n",
    "---\n",
    "```shell\n",
    "## 現在登録されているServiceを確認\n",
    "rosservice list\n",
    "rosservice type /spawn | rossrv show # /spawnサービスの「引数(入力)」「返り値(出力)」を確認\n",
    "\n",
    "## Serviceを呼び出す\n",
    "rosservice call /spawn 2 3 1 \"\" # x = 2、y = 3、theta = 1、name = \"\"が入力\n",
    "```\n",
    "---\n",
    "## rosparam\n",
    "parameterはプログラムの挙動を開始時に変更する\n",
    "\n",
    "---\n",
    "```shell\n",
    "rosparam list\n",
    "\n",
    "rosparam get /turtlesim/background_b # /background_bパラメーターの値を取得\n",
    "rosparam set /turtlesim/background_r 200 \n",
    "rosparam get /turtlesim/background_r\n",
    "\n",
    "rosservice call /clear # parameterはプログラム開始時に実行されるため\n",
    "```\n",
    "---"
   ]
  },
  {
   "cell_type": "markdown",
   "metadata": {},
   "source": [
    "# Chapter 7\n",
    "## Hello World\n",
    "---\n",
    "```shell\n",
    "roscore\n",
    "python ~/hello_world.py\n",
    "```\n",
    "---\n",
    "`~/hello_world.py`\n",
    "```python\n",
    "import rospy # rosをpythonで書くためには必須\n",
    "\n",
    "rospy.init_node('hello_world_node')\n",
    "rospy.loginfo('Hello World') # 文字列表示 & ROSネットワーク上に文字列を送信\n",
    "rospy.spin() # 無限ループ\n",
    "```\n",
    "---\n"
   ]
  }
 ],
 "metadata": {
  "kernelspec": {
   "display_name": "Python 2",
   "language": "python",
   "name": "python2"
  },
  "language_info": {
   "codemirror_mode": {
    "name": "ipython",
    "version": 2
   },
   "file_extension": ".py",
   "mimetype": "text/x-python",
   "name": "python",
   "nbconvert_exporter": "python",
   "pygments_lexer": "ipython2",
   "version": "2.7.16"
  }
 },
 "nbformat": 4,
 "nbformat_minor": 1
}
